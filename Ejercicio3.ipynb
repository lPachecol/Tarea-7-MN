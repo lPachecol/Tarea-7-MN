{
 "cells": [
  {
   "cell_type": "code",
   "execution_count": 9,
   "id": "69273cbe",
   "metadata": {},
   "outputs": [
    {
     "name": "stdout",
     "output_type": "stream",
     "text": [
      "a: [1, 5]\n",
      "b: [5.50000000000000, 1.00000000000000]\n",
      "c: [0, -4.50000000000000]\n",
      "d: [-1.50000000000000, 1.50000000000000]\n"
     ]
    }
   ],
   "source": [
    "import sympy as sp\n",
    "\n",
    "def cubic_spline(xs: list[float], ys: list[float]) -> tuple:\n",
    "    n = len(xs) - 1  # número de splines\n",
    "    h = [xs[i + 1] - xs[i] for i in range(n)]  # distancias entre puntos consecutivos\n",
    "    \n",
    "    # Matriz de coeficientes (A) para el sistema\n",
    "    A = sp.Matrix.zeros(n + 1)  # n + 1 porque se añaden condiciones de frontera\n",
    "    A[0, 0] = 1  # Condición de frontera: f''(x_0) = 0\n",
    "    A[n, n] = 1  # Condición de frontera: f''(x_n) = 0\n",
    "    \n",
    "    # Construir la matriz A\n",
    "    for i in range(1, n):\n",
    "        A[i, i - 1] = h[i - 1]\n",
    "        A[i, i] = 2 * (h[i - 1] + h[i])\n",
    "        A[i, i + 1] = h[i]\n",
    "    \n",
    "    # Crear el vector B\n",
    "    B = sp.Matrix([0] + [3 * (ys[i + 1] - ys[i]) / h[i] - 3 * (ys[i] - ys[i - 1]) / h[i - 1] for i in range(1, n)] + [0])\n",
    "    \n",
    "    # Resolver el sistema de ecuaciones\n",
    "    c = A.LUsolve(B)\n",
    "    \n",
    "    # Calcular los coeficientes a, b y d\n",
    "    a = ys[:-1]\n",
    "    b = [(ys[i + 1] - ys[i]) / h[i] - h[i] * (2 * c[i] + c[i + 1]) / 3 for i in range(n)]\n",
    "    d = [(c[i + 1] - c[i]) / (3 * h[i]) for i in range(n)]\n",
    "    \n",
    "    return a, b, c[:-1], d\n",
    "\n",
    "# Ejemplo con datos de prueba\n",
    "xs = [0, 1, 2]\n",
    "ys = [1, 5, 3]\n",
    "result = cubic_spline(xs, ys)\n",
    "\n",
    "# Imprimir los resultados\n",
    "print(f\"a: {result[0]}\")\n",
    "print(f\"b: {result[1]}\")\n",
    "print(f\"c: {result[2]}\")\n",
    "print(f\"d: {result[3]}\")\n"
   ]
  }
 ],
 "metadata": {
  "kernelspec": {
   "display_name": "Python 3",
   "language": "python",
   "name": "python3"
  },
  "language_info": {
   "codemirror_mode": {
    "name": "ipython",
    "version": 3
   },
   "file_extension": ".py",
   "mimetype": "text/x-python",
   "name": "python",
   "nbconvert_exporter": "python",
   "pygments_lexer": "ipython3",
   "version": "3.13.3"
  }
 },
 "nbformat": 4,
 "nbformat_minor": 5
}
